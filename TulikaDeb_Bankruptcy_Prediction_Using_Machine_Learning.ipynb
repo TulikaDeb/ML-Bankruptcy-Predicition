{
  "nbformat": 4,
  "nbformat_minor": 0,
  "metadata": {
    "colab": {
      "provenance": [],
      "authorship_tag": "ABX9TyOw9X8l6mI0z6IV628fb7JS",
      "include_colab_link": true
    },
    "kernelspec": {
      "name": "python3",
      "display_name": "Python 3"
    },
    "language_info": {
      "name": "python"
    }
  },
  "cells": [
    {
      "cell_type": "markdown",
      "metadata": {
        "id": "view-in-github",
        "colab_type": "text"
      },
      "source": [
        "<a href=\"https://colab.research.google.com/github/TulikaDeb/ML-Bankruptcy-Predicition/blob/main/TulikaDeb_Bankruptcy_Prediction_Using_Machine_Learning.ipynb\" target=\"_parent\"><img src=\"https://colab.research.google.com/assets/colab-badge.svg\" alt=\"Open In Colab\"/></a>"
      ]
    },
    {
      "cell_type": "code",
      "execution_count": null,
      "metadata": {
        "id": "RYUvAo4VtPx7"
      },
      "outputs": [],
      "source": [
        "from google.colab import files\n",
        "uploaded = files.upload()\n",
        "import pandas as pd\n",
        "import io\n",
        "\n",
        "df = pd.read_csv(io.BytesIO(uploaded['american_bankruptcy.csv']))\n",
        "df.head()"
      ]
    },
    {
      "cell_type": "code",
      "source": [
        "print(df)"
      ],
      "metadata": {
        "id": "-JkyUj2avY_D"
      },
      "execution_count": null,
      "outputs": []
    },
    {
      "cell_type": "code",
      "source": [
        "X = df[['X1', 'X2', 'X3']]\n",
        "y = df['status_label']\n",
        "X_list = X.values.tolist()\n",
        "y_list = y.tolist()"
      ],
      "metadata": {
        "id": "2SfygKOtvRp0"
      },
      "execution_count": null,
      "outputs": []
    },
    {
      "cell_type": "code",
      "source": [
        "print(X_list[0],y_list[0])"
      ],
      "metadata": {
        "id": "VEMUIcJmvSPT"
      },
      "execution_count": null,
      "outputs": []
    },
    {
      "cell_type": "code",
      "source": [
        "for i in range(len(y_list)):\n",
        "  if y_list[i]=='alive':\n",
        "    y_list[i]=1\n",
        "  else:\n",
        "    y_list[i]=0\n",
        "\n",
        "print(y_list)"
      ],
      "metadata": {
        "id": "GB6HKGjtvSR-"
      },
      "execution_count": null,
      "outputs": []
    },
    {
      "cell_type": "code",
      "source": [
        "total_1 = 0\n",
        "total_0 = 0\n",
        "for i in range(len(y_list)):\n",
        "  if y_list[i]==1:\n",
        "    total_1+=1\n",
        "  if y_list[i]==0:\n",
        "    total_0+=1\n",
        "\n",
        "print(\"Total number of 1s in the dataset is: \", total_1)\n",
        "print(\"Total number of 0s in the dataset is: \", total_0)"
      ],
      "metadata": {
        "id": "h-DbYmOC2aO9"
      },
      "execution_count": null,
      "outputs": []
    },
    {
      "cell_type": "code",
      "source": [
        "from sklearn.model_selection import train_test_split\n",
        "X_train, X_test, y_train, y_test = train_test_split(\n",
        "    X_list, y_list, test_size=0.33)\n",
        "\n",
        "print(X_train[0],y_train[0])"
      ],
      "metadata": {
        "id": "9CMMEhGWvSX5"
      },
      "execution_count": null,
      "outputs": []
    },
    {
      "cell_type": "code",
      "source": [
        "X_train, X_test, y_train, y_test = train_test_split(\n",
        "    X_list, y_list, test_size=0.33)"
      ],
      "metadata": {
        "id": "5K0voXfzvSau"
      },
      "execution_count": null,
      "outputs": []
    },
    {
      "cell_type": "code",
      "source": [
        "### Multi Layer Perceptron"
      ],
      "metadata": {
        "id": "nYIkuhqZ2b37"
      },
      "execution_count": null,
      "outputs": []
    },
    {
      "cell_type": "code",
      "source": [
        "from sklearn.neural_network import MLPClassifier\n",
        "from sklearn.datasets import make_classification"
      ],
      "metadata": {
        "id": "gQLkXJMRvSd3"
      },
      "execution_count": null,
      "outputs": []
    },
    {
      "cell_type": "code",
      "source": [
        "clf = MLPClassifier(max_iter=300, learning_rate_init=0.01).fit(X_train, y_train)\n",
        "pred_mlp_test=clf.predict(X_test)"
      ],
      "metadata": {
        "id": "ntVirj25vSgs"
      },
      "execution_count": null,
      "outputs": []
    },
    {
      "cell_type": "code",
      "source": [
        "print(pred_mlp_test)"
      ],
      "metadata": {
        "id": "ngQ7BfQSvSkG"
      },
      "execution_count": null,
      "outputs": []
    },
    {
      "cell_type": "code",
      "source": [
        "print(y_test)"
      ],
      "metadata": {
        "id": "fdxHCQftvSni"
      },
      "execution_count": null,
      "outputs": []
    },
    {
      "cell_type": "code",
      "source": [
        "count = 0\n",
        "for i in range(len(pred_mlp_test)):\n",
        "  if pred_mlp_test[i]==y_test[i]:\n",
        "    count+=1\n",
        "\n",
        "acc = (count/len(pred_mlp_test))*100\n",
        "print(acc)"
      ],
      "metadata": {
        "id": "NcNvsztGvSqs"
      },
      "execution_count": null,
      "outputs": []
    },
    {
      "cell_type": "code",
      "source": [
        "count1 = 0\n",
        "count2 =0\n",
        "\n",
        "for i in range(len(pred_mlp_test)):\n",
        "  if pred_mlp_test[i]==y_test[i] and y_test[i]==0:\n",
        "    count1+=1\n",
        "  if y_test[i]==0:\n",
        "    count2+=1\n",
        "\n",
        "acc = (count1/count2)*100\n",
        "print(acc)"
      ],
      "metadata": {
        "id": "iaTUCFFwvStg"
      },
      "execution_count": null,
      "outputs": []
    },
    {
      "cell_type": "code",
      "source": [
        "count1 = 0\n",
        "count2 = 0\n",
        "for i in range(len(pred_mlp_test)):\n",
        "  if pred_mlp_test[i]==y_test[i] and y_test[i]==1:\n",
        "    count1+=1\n",
        "  if y_test[i]==1:\n",
        "    count2+=1\n",
        "acc=(count1/count2)*100\n",
        "print(acc)"
      ],
      "metadata": {
        "id": "bozdt-oGvSwh"
      },
      "execution_count": null,
      "outputs": []
    },
    {
      "cell_type": "code",
      "source": [
        "clf = MLPClassifier(max_iter=300,learning_rate_init=0.01).fit(X_train, y_train)\n",
        "pred_mlp_train=clf.predict(X_train)"
      ],
      "metadata": {
        "id": "6ti71WQQvSze"
      },
      "execution_count": null,
      "outputs": []
    },
    {
      "cell_type": "code",
      "source": [
        "count = 0\n",
        "for i in range(len(pred_mlp_train)):\n",
        "  if pred_mlp_train[i]==y_train[i]:\n",
        "    count+=1\n",
        "\n",
        "acc = (count/len(pred_mlp_train))*100\n",
        "print(\"Training accuracy is\",acc)"
      ],
      "metadata": {
        "id": "oXRF9ax9vS2W"
      },
      "execution_count": null,
      "outputs": []
    },
    {
      "cell_type": "code",
      "source": [
        "from sklearn.metrics import precision_score\n",
        "from sklearn.metrics import recall_score\n",
        "from sklearn.metrics import f1_score\n",
        "\n",
        "precision = precision_score(pred_mlp_test, y_test)*100\n",
        "print(\"Precision of MLP is:\",precision)\n",
        "\n",
        "recall = recall_score(pred_mlp_test, y_test)*100\n",
        "print(\"The recall of MLPis: \", recall)\n",
        "\n",
        "f1 = f1_score(pred_mlp_test, y_test)*100\n",
        "print(\"f1 score of MLP is: \", f1)"
      ],
      "metadata": {
        "id": "iPVX2nUlvS8J"
      },
      "execution_count": null,
      "outputs": []
    },
    {
      "cell_type": "code",
      "source": [
        "### Functions for accuracies\n",
        "\n",
        "### testing accuracy\n",
        "def acc(y_pred,y_test):\n",
        "  count = 0\n",
        "  for i in range(len(y_pred)):\n",
        "    if y_pred[i]==y_test[i]:\n",
        "      count+=1\n",
        "  acc=(count/len(y_pred))*100\n",
        "  print(\"Testing accuracy is\",acc)\n",
        "\n",
        "\n",
        "### testing accuracy of 0s\n",
        "def acc_0(y_pred,y_test):\n",
        "  count = 0\n",
        "  count2 = 0\n",
        "  for i in range(len(y_pred)):\n",
        "    if y_pred[i]==y_test[i] and y_test[i]==0:\n",
        "      count+=1\n",
        "    if y_test[i]==0:\n",
        "      count2+=1\n",
        "  acc_0=(count/count2)*100\n",
        "  print(\"Testing accuracy of 0s is\",acc_0)\n",
        "\n",
        "\n",
        "### testing accuracy of 1s\n",
        "def acc_1(y_pred,y_test):\n",
        "  count = 0\n",
        "  count2 = 0\n",
        "  for i in range(len(y_pred)):\n",
        "    if y_pred[i]==y_test[i] and y_test[i]==1:\n",
        "      count+=1\n",
        "    if y_test[i]==1:\n",
        "      count2+=1\n",
        "  acc_1=(count/count2)*100\n",
        "  print(\"Testing accuracy of 1s is\",acc_1)\n",
        "\n",
        "### training accuracy\n",
        "def acc_train(y_pred,y_train):\n",
        "  count = 0\n",
        "  for i in range(len(y_pred)):\n",
        "    if y_pred[i]==y_train[i]:\n",
        "      count+=1\n",
        "  acc_train=(count/len(y_pred))*100\n",
        "  print(\"Training accuracy is\",acc_train)"
      ],
      "metadata": {
        "id": "FyiTCj9PvS_P"
      },
      "execution_count": null,
      "outputs": []
    },
    {
      "cell_type": "code",
      "source": [
        "### Decision Trees"
      ],
      "metadata": {
        "id": "qWmnWR0X2gID"
      },
      "execution_count": null,
      "outputs": []
    },
    {
      "cell_type": "code",
      "source": [
        "from sklearn.tree import DecisionTreeClassifier\n",
        "dt = DecisionTreeClassifier(max_depth=2)\n",
        "dt.fit(X_train, y_train)\n",
        "pred_dt_test = dt.predict(X_test)"
      ],
      "metadata": {
        "id": "RmmQWMy2vTCZ"
      },
      "execution_count": null,
      "outputs": []
    },
    {
      "cell_type": "code",
      "source": [
        "acc(pred_dt_test,y_test)\n",
        "acc_0(pred_dt_test,y_test)\n",
        "acc_1(pred_dt_test,y_test)"
      ],
      "metadata": {
        "id": "QqwZhJBJ1aTu"
      },
      "execution_count": null,
      "outputs": []
    },
    {
      "cell_type": "code",
      "source": [
        "precision = precision_score(pred_dt_test, y_test)*100\n",
        "print(\"Precision of Decision Tree is:\",precision)\n",
        "\n",
        "recall = recall_score(pred_dt_test, y_test)*100\n",
        "print(\"The recall of Decision Tree is : \", recall)\n",
        "\n",
        "f1 = f1_score(pred_dt_test, y_test)*100\n",
        "print(\"f1 score of Decision Tree is: \", f1)"
      ],
      "metadata": {
        "id": "TifDdPBj1atV"
      },
      "execution_count": null,
      "outputs": []
    },
    {
      "cell_type": "code",
      "source": [
        "dt = DecisionTreeClassifier(max_depth=2)\n",
        "dt.fit(X_train, y_train)\n",
        "pred_dt_train = dt.predict(X_train)"
      ],
      "metadata": {
        "id": "vGvMsCH91a-8"
      },
      "execution_count": null,
      "outputs": []
    },
    {
      "cell_type": "code",
      "source": [
        "acc_train(pred_dt_train ,y_train)"
      ],
      "metadata": {
        "id": "a3XjMtWz1bUR"
      },
      "execution_count": null,
      "outputs": []
    },
    {
      "cell_type": "code",
      "source": [
        "### Logistic Regression"
      ],
      "metadata": {
        "id": "Zro-6OM12ixu"
      },
      "execution_count": null,
      "outputs": []
    },
    {
      "cell_type": "code",
      "source": [
        "from sklearn.linear_model import LogisticRegression\n",
        "lr = LogisticRegression(class_weight='balanced',solver='liblinear')\n",
        "lr.fit(X_train,y_train)\n",
        "pred_lr_test = lr.predict(X_test)"
      ],
      "metadata": {
        "id": "fy4ckGUc1bec"
      },
      "execution_count": null,
      "outputs": []
    },
    {
      "cell_type": "code",
      "source": [
        "acc(pred_lr_test,y_test)\n",
        "acc_0(pred_lr_test,y_test)\n",
        "acc_1(pred_lr_test,y_test)"
      ],
      "metadata": {
        "id": "XSJ2jKyf1bmn"
      },
      "execution_count": null,
      "outputs": []
    },
    {
      "cell_type": "code",
      "source": [
        "precision = precision_score(pred_lr_test, y_test)*100\n",
        "print(\"Precision of Logistic Regression is:\",precision)\n",
        "\n",
        "recall = recall_score(pred_lr_test, y_test)*100\n",
        "print(\"The recall of Logistic Regression is: \", recall)\n",
        "\n",
        "f1 = f1_score(pred_lr_test, y_test)*100\n",
        "print(\"f1 score of Logistic Regression is: \", f1)"
      ],
      "metadata": {
        "id": "KR7JeAJ91bu1"
      },
      "execution_count": null,
      "outputs": []
    },
    {
      "cell_type": "code",
      "source": [
        "lr = LogisticRegression(class_weight='balanced',solver='liblinear')\n",
        "lr.fit(X_train,y_train)\n",
        "pred_lr_train = lr.predict(X_train)"
      ],
      "metadata": {
        "id": "erX5lGTm1b2k"
      },
      "execution_count": null,
      "outputs": []
    },
    {
      "cell_type": "code",
      "source": [
        "acc_train(pred_lr_train,y_train)"
      ],
      "metadata": {
        "id": "TvQPoYwq1b-K"
      },
      "execution_count": null,
      "outputs": []
    },
    {
      "cell_type": "code",
      "source": [
        "### Random Forest"
      ],
      "metadata": {
        "id": "_cmZW81C2lKR"
      },
      "execution_count": null,
      "outputs": []
    },
    {
      "cell_type": "code",
      "source": [
        "from sklearn.ensemble import RandomForestClassifier\n",
        "rf = RandomForestClassifier(n_estimators=100,\n",
        "                            max_depth=17)\n",
        "rf.fit(X_train, y_train)\n",
        "pred_rf_test = rf.predict(X_test)"
      ],
      "metadata": {
        "id": "BzfYI3rM1cGO"
      },
      "execution_count": null,
      "outputs": []
    },
    {
      "cell_type": "code",
      "source": [
        "acc(pred_rf_test,y_test)\n",
        "acc_0(pred_rf_test,y_test)\n",
        "acc_1(pred_rf_test,y_test)"
      ],
      "metadata": {
        "id": "lshcSh0HvTFI"
      },
      "execution_count": null,
      "outputs": []
    },
    {
      "cell_type": "code",
      "source": [
        "from sklearn.metrics import precision_score\n",
        "from sklearn.metrics import recall_score\n",
        "from sklearn.metrics import f1_score\n",
        "\n",
        "precision = precision_score(pred_rf_test, y_test)*100\n",
        "print(\"Precision of Random Forest is:\",precision)\n",
        "\n",
        "recall = recall_score(pred_rf_test, y_test)*100\n",
        "print(\"The recall of Random Forest is: \", recall)\n",
        "\n",
        "f1 = f1_score(pred_rf_test, y_test)*100\n",
        "print(\"f1 score of Random Forest is: \", f1)"
      ],
      "metadata": {
        "id": "Bx6Z1gr2vTK5"
      },
      "execution_count": null,
      "outputs": []
    },
    {
      "cell_type": "code",
      "source": [
        "rf = RandomForestClassifier(n_estimators=100,\n",
        "                           max_depth=17)\n",
        "rf.fit(X_train, y_train)\n",
        "pred_rf_train = rf.predict(X_train)"
      ],
      "metadata": {
        "id": "TK-nWX1y11Nw"
      },
      "execution_count": null,
      "outputs": []
    },
    {
      "cell_type": "code",
      "source": [
        "acc_train(pred_rf_train,y_train)"
      ],
      "metadata": {
        "id": "k7EzEcnr11g5"
      },
      "execution_count": null,
      "outputs": []
    },
    {
      "cell_type": "code",
      "source": [
        "### K-Nearest Neighbour"
      ],
      "metadata": {
        "id": "1z8_tTeA2oHv"
      },
      "execution_count": null,
      "outputs": []
    },
    {
      "cell_type": "code",
      "source": [
        "from sklearn.neighbors import KNeighborsClassifier\n",
        "knn= KNeighborsClassifier(n_neighbors=35)\n",
        "knn.fit(X_train, y_train)\n",
        "y_pred_knn = (knn.predict(X_test))"
      ],
      "metadata": {
        "id": "yeiBqMB911vM"
      },
      "execution_count": null,
      "outputs": []
    },
    {
      "cell_type": "code",
      "source": [
        "acc(y_pred_knn,y_test)\n",
        "acc_0(y_pred_knn,y_test)\n",
        "acc_1(y_pred_knn,y_test)"
      ],
      "metadata": {
        "id": "JORcqn5s117g"
      },
      "execution_count": null,
      "outputs": []
    },
    {
      "cell_type": "code",
      "source": [
        "precision = precision_score(y_pred_knn, y_test)*100\n",
        "print(\"Precision of KNN is:\",precision)\n",
        "\n",
        "recall = recall_score(y_pred_knn, y_test)*100\n",
        "print(\"The recall of KNN is: \", recall)\n",
        "\n",
        "f1 = f1_score(y_pred_knn, y_test)*100\n",
        "print(\"f1 score of KNN is: \", f1)"
      ],
      "metadata": {
        "id": "-i9SwbVE12GO"
      },
      "execution_count": null,
      "outputs": []
    },
    {
      "cell_type": "code",
      "source": [
        "knn= KNeighborsClassifier(n_neighbors=35)\n",
        "knn.fit(X_train, y_train)\n",
        "pred_knn_train= (knn.predict(X_train))"
      ],
      "metadata": {
        "id": "76eQ0IFy12Pg"
      },
      "execution_count": null,
      "outputs": []
    },
    {
      "cell_type": "code",
      "source": [
        "acc_train(pred_rf_train,y_train)"
      ],
      "metadata": {
        "id": "gUqYh94a12X3"
      },
      "execution_count": null,
      "outputs": []
    },
    {
      "cell_type": "code",
      "source": [
        "### Majority Voting"
      ],
      "metadata": {
        "id": "Sgcl0MGU12fa"
      },
      "execution_count": null,
      "outputs": []
    },
    {
      "cell_type": "code",
      "source": [
        "majority_pred = []\n",
        "for i in range(len(pred_mlp_test)):\n",
        "  votes = [pred_mlp_test[i] , pred_dt_test[i] , pred_lr_test[i] , pred_rf_test[i], y_pred_knn[i]]\n",
        "\n",
        "  votes_count = [0,0]\n",
        "  for vote in votes:\n",
        "    votes_count[vote] += 1\n",
        "\n",
        "  if votes_count[0]>votes_count[1] :\n",
        "    majority_votes = 0\n",
        "  else:\n",
        "    majority_votes = 1\n",
        "\n",
        "  majority_pred.append(majority_votes)"
      ],
      "metadata": {
        "id": "hDrTi2_612m_"
      },
      "execution_count": null,
      "outputs": []
    },
    {
      "cell_type": "code",
      "source": [
        "count = 0\n",
        "for i in range(len(majority_pred)):\n",
        "  if majority_pred[i]==y_test[i]:\n",
        "    count+=1\n",
        "acc=(count/len(majority_pred))*100\n",
        "print(\"Majority vote accuracy is\",acc)"
      ],
      "metadata": {
        "id": "Bd8DWXi612uF"
      },
      "execution_count": null,
      "outputs": []
    },
    {
      "cell_type": "code",
      "source": [
        "###Weighted Average Algorithm\n",
        "\n",
        "#Rules for the reward system\n",
        "# 1. weights should never go to zero, it is done so that every day each person should be taken into account and not eliminated entirely\n",
        "# 2. All persons should be treated equally --> Fairness\n",
        "# 3. Minor difference in the no of mistakes between 2 persons should not create a major gap in weights"
      ],
      "metadata": {
        "id": "4kRKBwWH120k"
      },
      "execution_count": null,
      "outputs": []
    },
    {
      "cell_type": "code",
      "source": [
        "w1=1\n",
        "w2=1\n",
        "w3=1\n",
        "w4=1\n",
        "w5=1\n",
        "weight_majority = []\n",
        "prob=[]\n",
        "\n",
        "for i in range(len(pred_mlp_test)):\n",
        "  if w1<0.000001 or w2<0.000001 or w3<0.000001 or w4<0.000001 or w5<0.000001:\n",
        "    w1*=100\n",
        "    w2*=100\n",
        "    w3*=100\n",
        "    w4*=100\n",
        "    w5*=100\n",
        "  s0 = 0\n",
        "  s1 = 0\n",
        "  if pred_mlp_test[i]!= y_test[i]:\n",
        "    w1/=2\n",
        "  if pred_lr_test[i] !=y_test[i]:\n",
        "    w2/=2\n",
        "  if pred_dt_test[i]!=y_test[i]:\n",
        "    w3/=2\n",
        "  if pred_rf_test[i]!=y_test[i]:\n",
        "    w4/=2\n",
        "  if y_pred_knn[i]!=y_test[i]:\n",
        "    w5/=2\n",
        "  if pred_mlp_test[i]==0:\n",
        "    s0+=w1\n",
        "  if pred_lr_test[i]==0:\n",
        "    s0+=w2\n",
        "  if pred_dt_test[i]==0:\n",
        "    s0+=w3\n",
        "  if pred_rf_test[i]==0:\n",
        "    s0+=w4\n",
        "  if y_pred_knn[i]==0:\n",
        "    s0+=w5\n",
        "  if pred_mlp_test[i]==1:\n",
        "    s1+=w1\n",
        "  if pred_lr_test[i]==1:\n",
        "    s1+=w2\n",
        "  if pred_dt_test[i]==1:\n",
        "    s1+=w3\n",
        "  if pred_rf_test[i]==1:\n",
        "    s1+=w4\n",
        "  if y_pred_knn[i]==1:\n",
        "    s1+=w5\n",
        "  if s0>s1:\n",
        "    weight_majority.append(0)\n",
        "  else:\n",
        "    weight_majority.append(1)\n",
        "\n",
        "  prob_0 = s0/(s0+s1)\n",
        "  prob_1 = s1/(s0+s1)\n",
        "  prob.append(prob_1)\n",
        "\n",
        "print(\"The weighted majority is: \",weight_majority)"
      ],
      "metadata": {
        "id": "hGaDBXD3127F"
      },
      "execution_count": null,
      "outputs": []
    },
    {
      "cell_type": "code",
      "source": [
        "count=0\n",
        "for i in range(len(weight_majority)):\n",
        "  if weight_majority[i]==y_test[i]:\n",
        "    count+=1\n",
        "acc=(count/len(weight_majority))*100\n",
        "print(\"the accuracy is: \",acc)"
      ],
      "metadata": {
        "id": "ISuzGHTB2TzU"
      },
      "execution_count": null,
      "outputs": []
    }
  ]
}